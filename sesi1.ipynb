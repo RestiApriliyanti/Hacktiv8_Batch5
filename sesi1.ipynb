{
 "cells": [
  {
   "cell_type": "markdown",
   "metadata": {},
   "source": [
    "# Tipe Data dan Variable"
   ]
  },
  {
   "cell_type": "markdown",
   "metadata": {},
   "source": [
    "## A. Tipe Data"
   ]
  },
  {
   "cell_type": "code",
   "execution_count": 16,
   "metadata": {},
   "outputs": [
    {
     "name": "stdout",
     "output_type": "stream",
     "text": [
      "12\n",
      "<class 'int'>\n"
     ]
    }
   ],
   "source": [
    "# 1. Integer\n",
    "\n",
    "print (6 + 6)\n",
    "print(type(6))"
   ]
  },
  {
   "cell_type": "code",
   "execution_count": 17,
   "metadata": {},
   "outputs": [
    {
     "name": "stdout",
     "output_type": "stream",
     "text": [
      "<class 'float'>\n"
     ]
    }
   ],
   "source": [
    "# 2. Float\n",
    "\n",
    "a = 6.6\n",
    "print(type(a))"
   ]
  },
  {
   "cell_type": "code",
   "execution_count": 18,
   "metadata": {},
   "outputs": [
    {
     "name": "stdout",
     "output_type": "stream",
     "text": [
      "Resti Apriliyanti\n",
      "<class 'str'>\n"
     ]
    }
   ],
   "source": [
    "# 3. String\n",
    "\n",
    "print(\"Resti Apriliyanti\")\n",
    "print(type(' '))"
   ]
  },
  {
   "cell_type": "code",
   "execution_count": 19,
   "metadata": {},
   "outputs": [
    {
     "name": "stdout",
     "output_type": "stream",
     "text": [
      "<class 'bool'>\n",
      "<class 'bool'>\n"
     ]
    }
   ],
   "source": [
    "# 4. Boolean\n",
    "\n",
    "print(type(True))\n",
    "print(type(False))"
   ]
  },
  {
   "cell_type": "markdown",
   "metadata": {},
   "source": [
    "## B. Variable\n",
    "\n",
    "Variable pada python tidak perlu dideklarasikan seperti pada bahasa pemrograman lainnya. Penulisan variable merupakan case sensitive sehingga perbedaan huruf kapital, garis bawah dan sebagainya akan berpengaruh.\n",
    "\n",
    "Metode penulisan variable multi-kata :\n",
    "1. Camel Case : restiApriliyanti (menggunakan huruf kapital untuk kata kedua dan seterusnya)\n",
    "2. Pascal Case : RestiApriliyanti (menggunakan huruf kapital untuk setiap kata)\n",
    "3. Snake Case : resti_apriliyanti (menggunakan underline untuk memisahkan kata)"
   ]
  },
  {
   "cell_type": "code",
   "execution_count": 11,
   "metadata": {},
   "outputs": [
    {
     "name": "stdout",
     "output_type": "stream",
     "text": [
      "61\n"
     ]
    }
   ],
   "source": [
    "R = 61\n",
    "print(R)"
   ]
  },
  {
   "cell_type": "markdown",
   "metadata": {},
   "source": [
    "### Operator "
   ]
  },
  {
   "cell_type": "code",
   "execution_count": 20,
   "metadata": {},
   "outputs": [
    {
     "name": "stdout",
     "output_type": "stream",
     "text": [
      "7\n",
      "3\n",
      "10\n",
      "2.5\n",
      "1\n",
      "25\n"
     ]
    }
   ],
   "source": [
    "# 1. Operator Aritmatika\n",
    "\n",
    "a = 5\n",
    "b = 2\n",
    "\n",
    "print(a + b)    \n",
    "print(a - b)\n",
    "print(a * b)\n",
    "print(a / b)\n",
    "print(a % b)    #hasil sisa bagi\n",
    "print(a ** b)   #pangkat"
   ]
  },
  {
   "cell_type": "markdown",
   "metadata": {},
   "source": [
    "Hasil dari pembagian selalu bertipe data *float*"
   ]
  },
  {
   "cell_type": "code",
   "execution_count": 21,
   "metadata": {},
   "outputs": [
    {
     "name": "stdout",
     "output_type": "stream",
     "text": [
      "False\n",
      "True\n",
      "False\n",
      "True\n",
      "True\n",
      "False\n",
      "True\n",
      "True\n"
     ]
    }
   ],
   "source": [
    "# 2. Operator Perbandingan\n",
    "\n",
    "a = 6\n",
    "b = 2\n",
    "\n",
    "print(a == b)    \n",
    "print(a != b)\n",
    "print(a <= b)\n",
    "print(a >= b)\n",
    "\n",
    "\n",
    "a = 4\n",
    "b = 4\n",
    "\n",
    "print(a == b)    \n",
    "print(a != b)\n",
    "print(a <= b)\n",
    "print(a >= b)"
   ]
  },
  {
   "cell_type": "code",
   "execution_count": 41,
   "metadata": {},
   "outputs": [
    {
     "name": "stdout",
     "output_type": "stream",
     "text": [
      "1. foobaz\n",
      "2. foobarbaz\n",
      "3. Resti Apriliyanti\n",
      "4. foofoofoofoofoofoo\n",
      "False\n",
      "True\n"
     ]
    }
   ],
   "source": [
    "# 3. Manipulasi String\n",
    "\n",
    "a = 'foo'\n",
    "b = 'bar'\n",
    "c = 'baz'\n",
    "\n",
    "print('1. ' + a+c)\n",
    "print('2. ' + a+b+c)\n",
    "\n",
    "print('3. Resti ' + 'Apriliyanti')\n",
    "\n",
    "print('4. ' + a*6)\n",
    "\n",
    "print('a' in a)\n",
    "print(a in 'That food for us')\n",
    "\n"
   ]
  },
  {
   "cell_type": "code",
   "execution_count": 46,
   "metadata": {},
   "outputs": [
    {
     "name": "stdout",
     "output_type": "stream",
     "text": [
      "Resti apriliyanti\n",
      "resti apriliyanti\n",
      "rESTI aPRILIYANTI\n",
      "Resti Apriliyanti\n",
      "RESTI APRILIYANTI\n"
     ]
    }
   ],
   "source": [
    "name = 'Resti Apriliyanti'\n",
    "\n",
    "print(name.capitalize())    # Konversi menjadi kapital di awal kalimat\n",
    "print(name.lower())         # Konversi huruf Kecil\n",
    "print(name.swapcase())      # Konversi huruf di awal setiap kata\n",
    "print(name.title())         # Konversi huruf sebagai judul\n",
    "print(name.upper())         # Konversi huruf menjadi kapital\n"
   ]
  },
  {
   "cell_type": "markdown",
   "metadata": {},
   "source": [
    "### List \n",
    "\n",
    "Karakter :\n",
    "1. Berurutan\n",
    "2. Boleh berisi objek bebas\n",
    "3. Bisa diakses melalui index\n",
    "4. Bersifat dinamis dan dapat berubah"
   ]
  },
  {
   "cell_type": "code",
   "execution_count": 47,
   "metadata": {},
   "outputs": [
    {
     "data": {
      "text/plain": [
       "False"
      ]
     },
     "execution_count": 47,
     "metadata": {},
     "output_type": "execute_result"
    }
   ],
   "source": [
    "# List berurutan\n",
    "\n",
    "a = ['foo', 'bar', 'baz']\n",
    "b = ['baz', 'bar', 'foo']\n",
    "\n",
    "a == b"
   ]
  },
  {
   "cell_type": "code",
   "execution_count": 48,
   "metadata": {},
   "outputs": [
    {
     "name": "stdout",
     "output_type": "stream",
     "text": [
      "['foobar', 3.14, 'bark', 4, 6]\n"
     ]
    }
   ],
   "source": [
    "# List dapat berisi objek bebas\n",
    "\n",
    "list = ['foobar', 3.14, 'bark', 4, 6]\n",
    "print(list)"
   ]
  },
  {
   "cell_type": "code",
   "execution_count": 59,
   "metadata": {},
   "outputs": [
    {
     "name": "stdout",
     "output_type": "stream",
     "text": [
      "baz\n",
      "qux\n",
      "['baz', 'qux']\n",
      "5\n",
      "bar\n",
      "qux\n",
      "['foo', 'bar', 'baz', 'qux', 'corge']\n",
      "['foo', 'bar', 'ganti', 'qux', 'corge']\n"
     ]
    }
   ],
   "source": [
    "# List dapat diakses dengan index\n",
    "\n",
    "a = ['foo', 'bar', 'baz', 'qux', 'corge']\n",
    "\n",
    "print(a[2])\n",
    "print(a[-2])\n",
    "print(a[2:4])\n",
    "\n",
    "print(len(a))\n",
    "print(min(a))\n",
    "print(max(a))\n",
    "\n",
    "\n",
    "print(a)\n",
    "a[2] = 'ganti'\n",
    "print(a)\n",
    "\n"
   ]
  },
  {
   "cell_type": "markdown",
   "metadata": {},
   "source": [
    "### Tuples\n",
    "\n",
    "Hampir sama dengan list tetapi memiliki perbedaan :\n",
    "1. Tuples menggunakan tanda kurung ( ) untuk mengapit elemen\n",
    "2. Tuples tidak dapat diubah"
   ]
  },
  {
   "cell_type": "code",
   "execution_count": 64,
   "metadata": {},
   "outputs": [
    {
     "name": "stdout",
     "output_type": "stream",
     "text": [
      "foo\n",
      "baz\n"
     ]
    }
   ],
   "source": [
    "(a, b, c) = ('foo', 'bar', 'baz')\n",
    "\n",
    "print(a)\n",
    "print(c)"
   ]
  },
  {
   "cell_type": "markdown",
   "metadata": {},
   "source": [
    "### Dictionary\n",
    "\n",
    "Dictionary merupakan implementasi struktur data atau biasa dikenal dengan associative array.\n",
    "\n",
    "Karakter :\n",
    "1. Dapat berubah dan bersifat dinamis sesuai kebutuhan\n",
    "2. Dapat dibuat bersarang, di dalam library dapat berisi library lain atau juga list lain\n",
    "3. Elemen dictionary diakses menggunakan key\n",
    "4. Dictionaries didefinisikan dengan kurung kurawal { } dan dipisahkan dengan titik dua : untuk setiap kunci dari nilai terkait"
   ]
  },
  {
   "cell_type": "code",
   "execution_count": 69,
   "metadata": {},
   "outputs": [
    {
     "name": "stdout",
     "output_type": "stream",
     "text": [
      "Red Sox\n",
      "Rockies\n",
      "{'Colorado': 'Rockies', 'Boston': 'Red Sox', 'Seattle': 'Mariners'}\n",
      "{'Colorado': 'Rockies', 'Boston': 'Red Sox'}\n"
     ]
    }
   ],
   "source": [
    "dictionaries = {\n",
    "    'Colorado' : 'Rockies',\n",
    "    'Boston' : 'Red Sox',\n",
    "    'Seattle' : 'Mariners'\n",
    "}\n",
    "\n",
    "print(dictionaries['Boston'])\n",
    "print(dictionaries['Colorado'])\n",
    "\n",
    "print(dictionaries)\n",
    "del dictionaries['Seattle']\n",
    "print(dictionaries)"
   ]
  }
 ],
 "metadata": {
  "kernelspec": {
   "display_name": "base",
   "language": "python",
   "name": "python3"
  },
  "language_info": {
   "codemirror_mode": {
    "name": "ipython",
    "version": 3
   },
   "file_extension": ".py",
   "mimetype": "text/x-python",
   "name": "python",
   "nbconvert_exporter": "python",
   "pygments_lexer": "ipython3",
   "version": "3.9.13"
  },
  "orig_nbformat": 4
 },
 "nbformat": 4,
 "nbformat_minor": 2
}
