{
 "cells": [
  {
   "cell_type": "markdown",
   "metadata": {},
   "source": [
    "# Function, Basic Module, & Package"
   ]
  },
  {
   "cell_type": "markdown",
   "metadata": {},
   "source": [
    "### 1. Function\n",
    "\n",
    "Function arguments :\n",
    "1. Requird arguments (diteruskan ke fungsi dalam urutan posisi yang benar)\n",
    "2. Keyword arguments (berkaitan dengan penggunan keyword arguments dalam memanggil fungsi. Pemanggil mengidentifikasi argumen dengan nama parameter dan dapat melewati argumen atau menempatkannya secara tidak berurutan)\n",
    "3. Default arguments (mengasumsikan nilai default argument jika nilai tidak disediakan dalam pemanggilan fungsi)\n",
    "4. Variable-length arguments (digunakan untuk memproses suatu fungsi yang memiliki lebih banyak argumen daripada yang ditentukan saat mendefinisikan fungsi -- menggunakan tanda bintang sebelum nama variabel)\n",
    "5. Anonymous Function (tidak dideklarasikan menggunakan keyword *def*)"
   ]
  },
  {
   "cell_type": "code",
   "execution_count": 2,
   "metadata": {},
   "outputs": [
    {
     "name": "stdout",
     "output_type": "stream",
     "text": [
      "8\n"
     ]
    }
   ],
   "source": [
    "def my_function(p, l):\n",
    "    \"Function untuk menghitung luas persegi panjang\"\n",
    "    print(p * l)\n",
    "\n",
    "my_function(2, 4)"
   ]
  },
  {
   "cell_type": "markdown",
   "metadata": {},
   "source": [
    "<b>1. Required Arguments</b><br>\n",
    "Saat fungsi *printme()* dipanggil tanpa ada argumen maka yang terjadi adalah error sebagai berikut :"
   ]
  },
  {
   "cell_type": "code",
   "execution_count": 6,
   "metadata": {},
   "outputs": [
    {
     "ename": "TypeError",
     "evalue": "printme() missing 1 required positional argument: 'str'",
     "output_type": "error",
     "traceback": [
      "\u001b[1;31m---------------------------------------------------------------------------\u001b[0m",
      "\u001b[1;31mTypeError\u001b[0m                                 Traceback (most recent call last)",
      "Cell \u001b[1;32mIn[6], line 6\u001b[0m\n\u001b[0;32m      3\u001b[0m     \u001b[39mprint\u001b[39m(\u001b[39mstr\u001b[39m)\n\u001b[0;32m      4\u001b[0m     \u001b[39mreturn\u001b[39;00m;\n\u001b[1;32m----> 6\u001b[0m printme()\n",
      "\u001b[1;31mTypeError\u001b[0m: printme() missing 1 required positional argument: 'str'"
     ]
    }
   ],
   "source": [
    "def printme(str):\n",
    "    \"This prints a passed string into this function\"\n",
    "    print(str)\n",
    "    return;\n",
    "\n",
    "printme()"
   ]
  },
  {
   "cell_type": "markdown",
   "metadata": {},
   "source": [
    "<b>2. Keyword Arguments</b>"
   ]
  },
  {
   "cell_type": "code",
   "execution_count": 11,
   "metadata": {},
   "outputs": [
    {
     "name": "stdout",
     "output_type": "stream",
     "text": [
      "Nama :  Resti Apriliyanti\n",
      "Age  :  20 Tahun\n"
     ]
    }
   ],
   "source": [
    "def printinfo(name, age):\n",
    "    \"This prints a passed info into this function\"\n",
    "    print(\"Nama : \", name)\n",
    "    print(\"Age  : \", age, \"Tahun\")\n",
    "    return;\n",
    "\n",
    "printinfo(age = 20, name = 'Resti Apriliyanti')"
   ]
  },
  {
   "cell_type": "markdown",
   "metadata": {},
   "source": [
    "<b>3. Default Arguments</b>"
   ]
  },
  {
   "cell_type": "code",
   "execution_count": 12,
   "metadata": {},
   "outputs": [
    {
     "name": "stdout",
     "output_type": "stream",
     "text": [
      "Nama :  Resti Apriliyanti\n",
      "Age  :  12 Tahun\n",
      "Nama :  Resti Apriliyanti\n",
      "Age  :  20 Tahun\n"
     ]
    }
   ],
   "source": [
    "def printinfo(name, age = 20):\n",
    "    \"This prints a passed info into this function\"\n",
    "    print(\"Nama : \", name)\n",
    "    print(\"Age  : \", age, \"Tahun\")\n",
    "    return;\n",
    "\n",
    "printinfo(age = 12, name = 'Resti Apriliyanti')\n",
    "printinfo(name = 'Resti Apriliyanti')"
   ]
  },
  {
   "cell_type": "markdown",
   "metadata": {},
   "source": [
    "<b>4. Variable Length Arguments</b>"
   ]
  },
  {
   "cell_type": "code",
   "execution_count": 13,
   "metadata": {},
   "outputs": [
    {
     "name": "stdout",
     "output_type": "stream",
     "text": [
      "Output is : \n",
      "10\n",
      "Output is : \n",
      "20\n",
      "30\n",
      "40\n",
      "50\n",
      "60\n",
      "dst.\n"
     ]
    }
   ],
   "source": [
    "def printinfo(arg1, *vartuple):\n",
    "    \"This prints a variable passed arguments\"\n",
    "    print(\"Output is : \")\n",
    "    print(arg1)\n",
    "    for var in vartuple :\n",
    "        print(var)\n",
    "    return;\n",
    "\n",
    "printinfo(10)\n",
    "printinfo(20, 30, 40, 50, 60, 'dst.')"
   ]
  },
  {
   "cell_type": "markdown",
   "metadata": {},
   "source": [
    "Tanda bintang (*) digunakan sebelum nama variabel yang menyimpan nilai dari semua non-keyword variable arguments."
   ]
  },
  {
   "cell_type": "markdown",
   "metadata": {},
   "source": [
    "<b>5. Anonymous Functions</b><br>\n",
    "<br>Adapun ketentuan penggunaan keyword lamda untuk membuat anonymous function :\n",
    "1. Lambda dapat mengambil berapapun argumen tetapi hanya mengembalikan satu nilai dalam bentuk expression.\n",
    "2. Lambda tidak boleh berisi commands atau multiple expression\n",
    "3. Anonymous function tidak dapat langsung dipanggil melalui *print* karena lambda memerlukan expression\n",
    "4. Lambda function memiliki namesapce sendiri yang tidak dapat mengakses variable selain yang ada di daftar parameternya dan yang ada di namespace global"
   ]
  },
  {
   "cell_type": "code",
   "execution_count": 17,
   "metadata": {},
   "outputs": [
    {
     "name": "stdout",
     "output_type": "stream",
     "text": [
      "Value of total :  30\n",
      "Value of total :  40\n"
     ]
    }
   ],
   "source": [
    "sum = lambda arg1, arg2: arg1 + arg2;\n",
    "\n",
    "def sum(arg1, arg2):\n",
    "    return arg1 + arg2\n",
    "    \n",
    "print(\"Value of total : \", sum(10,20))\n",
    "print(\"Value of total : \", sum(20,20))"
   ]
  },
  {
   "cell_type": "markdown",
   "metadata": {},
   "source": [
    "<b>Return Statement </b>"
   ]
  },
  {
   "cell_type": "code",
   "execution_count": 18,
   "metadata": {},
   "outputs": [
    {
     "name": "stdout",
     "output_type": "stream",
     "text": [
      "inside the function  :  30\n",
      "Outside the function :  40\n"
     ]
    }
   ],
   "source": [
    "def sum(arg1, arg2):\n",
    "    total = arg1 + arg2\n",
    "    total2 = total + arg1\n",
    "    print(\"inside the function  : \", total)\n",
    "    return total2\n",
    "\n",
    "total = sum(10,20)\n",
    "print(\"Outside the function : \", total)"
   ]
  },
  {
   "cell_type": "markdown",
   "metadata": {},
   "source": [
    "<b>Global vs Local Variables</b>"
   ]
  },
  {
   "cell_type": "code",
   "execution_count": 20,
   "metadata": {},
   "outputs": [
    {
     "name": "stdout",
     "output_type": "stream",
     "text": [
      "Inside the function local total   :  30\n",
      "Outside the function global total :  0\n"
     ]
    }
   ],
   "source": [
    "total = 0 \n",
    "\n",
    "def sum(arg1, arg2):\n",
    "    total = arg1 + arg2\n",
    "    print(\"Inside the function local total   : \", total)\n",
    "    return total\n",
    "\n",
    "sum(10,20)\n",
    "print(\"Outside the function global total : \", total)"
   ]
  },
  {
   "cell_type": "markdown",
   "metadata": {},
   "source": [
    "### 2. Python Modules\n",
    "Keuntungan memodularisasi kode dalam aplikasi besar :\n",
    "1. <b>Simplicity</b> : lebih mudah dan *less error*\n",
    "2. <b>Maintainability</b> : modul menerapkan *logical boundaries* antara domain masalah yang berbeda (mengerjakan program secara kolaboratif)\n",
    "3. <b>Reusability</b> : modul dapat dengan mudah digunakan kembali oleh bagian lain dari aplikasi\n",
    "4. <b>Scoping</b> : modul bisa mendefinisikan namespace secara terpisah yang dapat membantu menghindari tabrakan antara identifier di berbagai area program"
   ]
  },
  {
   "cell_type": "markdown",
   "metadata": {},
   "source": [
    "Ada tiga cara untuk mendefinisikan modul, yaitu :\n",
    "1. Modul ditulis dengan bahasa Python sendiri\n",
    "2. Modul ditulis dalam bahasa C dan diload secara dinamis pada saat *run-time*\n",
    "3. *Built-in* modul secara intrinsik terdapat dalam interpreter"
   ]
  },
  {
   "cell_type": "markdown",
   "metadata": {},
   "source": [
    "### 3. Python Packages\n",
    "\n",
    "PIP adalah *packages manager* untuk Python, artinya PIP adalah alat yang memungkinkan untuk menginstall dan mengelola *library* depedensi tambahan yang tidak didistribusikan sebagai bagian dari *library standar*"
   ]
  }
 ],
 "metadata": {
  "kernelspec": {
   "display_name": "base",
   "language": "python",
   "name": "python3"
  },
  "language_info": {
   "codemirror_mode": {
    "name": "ipython",
    "version": 3
   },
   "file_extension": ".py",
   "mimetype": "text/x-python",
   "name": "python",
   "nbconvert_exporter": "python",
   "pygments_lexer": "ipython3",
   "version": "3.11.4"
  },
  "orig_nbformat": 4
 },
 "nbformat": 4,
 "nbformat_minor": 2
}
