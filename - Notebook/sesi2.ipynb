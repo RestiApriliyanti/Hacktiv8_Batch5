{
 "cells": [
  {
   "cell_type": "markdown",
   "metadata": {},
   "source": [
    "# Conditions, Control Flow & Looping"
   ]
  },
  {
   "cell_type": "markdown",
   "metadata": {},
   "source": [
    "### Conditional (Percabangan)\n",
    "\n",
    "Kondisi yang biasa digunakan :\n",
    "1. sama dengan          (==)\n",
    "2. tidak sama dengan    (!=)\n",
    "3. lebih kecil dari     (<)\n",
    "4. lebih besar dari     (>)\n",
    "5. lebih kecil dari sama dengan    (<=)\n",
    "6. lebih kecil dari sama dengan    (>=)\n"
   ]
  },
  {
   "cell_type": "markdown",
   "metadata": {},
   "source": [
    "#### 1. if"
   ]
  },
  {
   "cell_type": "code",
   "execution_count": 1,
   "metadata": {},
   "outputs": [
    {
     "name": "stdout",
     "output_type": "stream",
     "text": [
      "x > y\n",
      "yes\n",
      "yes\n"
     ]
    }
   ],
   "source": [
    "x = 6 \n",
    "y = 2\n",
    "\n",
    "if x < y :\n",
    "    print('x < y')\n",
    "    \n",
    "if x > y :\n",
    "    print('x > y')\n",
    "\n",
    "if 'aul' in 'grault' :\n",
    "    print('yes')\n",
    "    \n",
    "if 'foo' in ['foo', 'bar', 'baz'] :\n",
    "    print('yes')"
   ]
  },
  {
   "cell_type": "code",
   "execution_count": 2,
   "metadata": {},
   "outputs": [
    {
     "name": "stdout",
     "output_type": "stream",
     "text": [
      "x tidak < y\n"
     ]
    }
   ],
   "source": [
    "x = 6 \n",
    "y = 2\n",
    "\n",
    "if x < y :\n",
    "    print('x < y')      # Inner condition\n",
    "print('x tidak < y')    # Outer condition"
   ]
  },
  {
   "cell_type": "markdown",
   "metadata": {},
   "source": [
    "#### 2. else & elif"
   ]
  },
  {
   "cell_type": "code",
   "execution_count": 4,
   "metadata": {},
   "outputs": [
    {
     "name": "stdout",
     "output_type": "stream",
     "text": [
      "Hello Resti\n"
     ]
    }
   ],
   "source": [
    "name = 'Resti'\n",
    "\n",
    "if name == 'April' :\n",
    "    print('Hello April')\n",
    "elif name == 'Lia' :\n",
    "    print('Hello Lia')\n",
    "elif name == 'Resti' :\n",
    "    print('Hello Resti')\n",
    "elif name == 'Xander' :\n",
    "    print('Hello Xander')\n",
    "else :\n",
    "    print(\"What is your name?\")\n",
    "    "
   ]
  },
  {
   "cell_type": "code",
   "execution_count": 10,
   "metadata": {},
   "outputs": [
    {
     "name": "stdout",
     "output_type": "stream",
     "text": [
      "Hello Resti\n",
      "3\n"
     ]
    }
   ],
   "source": [
    "# One line statements\n",
    "\n",
    "name = 'Resti'\n",
    "\n",
    "if name == 'April'  : print('Hello April'); print(1)\n",
    "elif name == 'Lia'  : print('Hello Lia'); print(2)\n",
    "elif name == 'Resti': print('Hello Resti'); print(3)\n",
    "elif name == 'Xander' : print('Hello Xander'); print(4)\n",
    "else : print(\"What is your name?\")"
   ]
  },
  {
   "cell_type": "markdown",
   "metadata": {},
   "source": [
    "<b>NOTE : </b> <br>\n",
    "    One line statements hanya digunakan untuk expression yang memiliki \n",
    "    sedikit statement dengan tujuan menghemat ruang. \n",
    "    Umumnya tidak disarankan karena menyebabkan readability yang buruk."
   ]
  },
  {
   "cell_type": "markdown",
   "metadata": {},
   "source": [
    "#### 3. pass statement\n",
    "\n",
    "*pass* digunakan sebagai placeholder untuk membuat interpreter berjalan."
   ]
  },
  {
   "cell_type": "code",
   "execution_count": 11,
   "metadata": {},
   "outputs": [
    {
     "ename": "IndentationError",
     "evalue": "expected an indented block (1802650959.py, line 3)",
     "output_type": "error",
     "traceback": [
      "\u001b[1;36m  Cell \u001b[1;32mIn[11], line 3\u001b[1;36m\u001b[0m\n\u001b[1;33m    print('Tidak Menggunakan pass -- error')\u001b[0m\n\u001b[1;37m    ^\u001b[0m\n\u001b[1;31mIndentationError\u001b[0m\u001b[1;31m:\u001b[0m expected an indented block\n"
     ]
    }
   ],
   "source": [
    "if True :\n",
    "    \n",
    "print('Tidak Menggunakan pass -- error')"
   ]
  },
  {
   "cell_type": "code",
   "execution_count": 12,
   "metadata": {},
   "outputs": [
    {
     "name": "stdout",
     "output_type": "stream",
     "text": [
      "Menggunakan pass\n"
     ]
    }
   ],
   "source": [
    "if True :\n",
    "    pass\n",
    "print('Menggunakan pass')"
   ]
  },
  {
   "cell_type": "markdown",
   "metadata": {},
   "source": [
    "### Perulangan (Iteration / Looping)\n",
    "\n",
    "Jenis Iterasi :\n",
    "1. Dengan *indefinite iteration*    : dijalankan berulang kali selama beberapa kondisi terpenuhi\n",
    "2. Dengan *definite iteration*      : dijalankan secara eksplisit pada saat perulangan dimulai"
   ]
  },
  {
   "cell_type": "markdown",
   "metadata": {},
   "source": [
    "#### Finite Loop"
   ]
  },
  {
   "cell_type": "markdown",
   "metadata": {},
   "source": [
    "#### 1. while"
   ]
  },
  {
   "cell_type": "code",
   "execution_count": 13,
   "metadata": {},
   "outputs": [
    {
     "name": "stdout",
     "output_type": "stream",
     "text": [
      "5\n",
      "4\n",
      "3\n",
      "2\n",
      "1\n",
      "0\n"
     ]
    }
   ],
   "source": [
    "n = 6 \n",
    "\n",
    "while n > 0 :\n",
    "    n -= 1\n",
    "    print(n)"
   ]
  },
  {
   "cell_type": "code",
   "execution_count": 14,
   "metadata": {},
   "outputs": [
    {
     "name": "stdout",
     "output_type": "stream",
     "text": [
      "1\n",
      "2\n",
      "3\n",
      "4\n",
      "5\n"
     ]
    }
   ],
   "source": [
    "i = 1 \n",
    "\n",
    "while i < 6 :\n",
    "    print(i)\n",
    "    i += 1 "
   ]
  },
  {
   "cell_type": "markdown",
   "metadata": {},
   "source": [
    "#### 2. break statement"
   ]
  },
  {
   "cell_type": "code",
   "execution_count": 16,
   "metadata": {},
   "outputs": [
    {
     "name": "stdout",
     "output_type": "stream",
     "text": [
      "5\n",
      "4\n",
      "3\n",
      "Looping ended\n"
     ]
    }
   ],
   "source": [
    "n = 6 \n",
    "\n",
    "while n > 0 :\n",
    "    n -= 1\n",
    "    if n == 2:\n",
    "        break\n",
    "    print(n)\n",
    "print('Looping ended')"
   ]
  },
  {
   "cell_type": "markdown",
   "metadata": {},
   "source": [
    "#### 3. else"
   ]
  },
  {
   "cell_type": "code",
   "execution_count": 17,
   "metadata": {},
   "outputs": [
    {
     "name": "stdout",
     "output_type": "stream",
     "text": [
      "5\n",
      "4\n",
      "3\n",
      "2\n",
      "1\n",
      "0\n",
      "Loop done.\n"
     ]
    }
   ],
   "source": [
    "n = 6 \n",
    "\n",
    "while n > 0 :\n",
    "    n -= 1\n",
    "    print(n)\n",
    "else :\n",
    "    print('Loop done.')"
   ]
  },
  {
   "cell_type": "markdown",
   "metadata": {},
   "source": [
    "#### 4. For"
   ]
  },
  {
   "cell_type": "code",
   "execution_count": 18,
   "metadata": {},
   "outputs": [
    {
     "name": "stdout",
     "output_type": "stream",
     "text": [
      "foo\n",
      "bar\n",
      "baz\n",
      "quu\n"
     ]
    }
   ],
   "source": [
    "a = ['foo', 'bar', 'baz', 'quu']\n",
    "\n",
    "for i in a :\n",
    "    print(i)"
   ]
  },
  {
   "cell_type": "code",
   "execution_count": 20,
   "metadata": {},
   "outputs": [
    {
     "name": "stdout",
     "output_type": "stream",
     "text": [
      "foo\n",
      "bar\n",
      "baz\n",
      "quu\n",
      "1\n",
      "2\n",
      "3\n",
      "4\n",
      "1\n",
      "2\n",
      "3\n",
      "4\n"
     ]
    }
   ],
   "source": [
    "a = {'foo' : 1, 'bar' : 2, 'baz' : 3, 'quu' : 4}\n",
    "\n",
    "for i in a :\n",
    "    print(i)\n",
    "\n",
    "for k in a :\n",
    "    print(a[k])\n",
    "    \n",
    "for v in a.values() :\n",
    "    print(v)"
   ]
  },
  {
   "cell_type": "markdown",
   "metadata": {},
   "source": [
    "#### Infinite Loop"
   ]
  },
  {
   "cell_type": "code",
   "execution_count": null,
   "metadata": {},
   "outputs": [],
   "source": [
    "while True :\n",
    "    print('foo')"
   ]
  },
  {
   "cell_type": "code",
   "execution_count": 21,
   "metadata": {},
   "outputs": [
    {
     "name": "stdout",
     "output_type": "stream",
     "text": [
      "\n",
      "\n",
      "resti\n",
      "resti\n",
      "stop\n"
     ]
    }
   ],
   "source": [
    "# Membatasi infinite loop\n",
    "\n",
    "while True :\n",
    "    msg = input(\"Ketik Input : \").lower()\n",
    "    print(msg)\n",
    "    \n",
    "    if msg == \"stop\":\n",
    "        break"
   ]
  }
 ],
 "metadata": {
  "kernelspec": {
   "display_name": "base",
   "language": "python",
   "name": "python3"
  },
  "language_info": {
   "codemirror_mode": {
    "name": "ipython",
    "version": 3
   },
   "file_extension": ".py",
   "mimetype": "text/x-python",
   "name": "python",
   "nbconvert_exporter": "python",
   "pygments_lexer": "ipython3",
   "version": "3.9.13"
  },
  "orig_nbformat": 4
 },
 "nbformat": 4,
 "nbformat_minor": 2
}
