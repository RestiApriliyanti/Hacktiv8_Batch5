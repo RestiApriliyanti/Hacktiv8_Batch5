{
 "cells": [
  {
   "cell_type": "markdown",
   "metadata": {},
   "source": [
    "# NumPy (Numerical Python)\n",
    "\n",
    "Pustaka NumPy berisi array multidimensi dan struktur data matriks."
   ]
  },
  {
   "cell_type": "code",
   "execution_count": 1,
   "metadata": {},
   "outputs": [],
   "source": [
    "# Install NumPy : \n",
    "# !conda install numpy atau !pip install numpy\n",
    "\n",
    "import numpy as np"
   ]
  },
  {
   "cell_type": "code",
   "execution_count": 8,
   "metadata": {},
   "outputs": [
    {
     "data": {
      "text/plain": [
       "'1.25.2'"
      ]
     },
     "execution_count": 8,
     "metadata": {},
     "output_type": "execute_result"
    }
   ],
   "source": [
    "np.__version__"
   ]
  },
  {
   "cell_type": "code",
   "execution_count": 11,
   "metadata": {},
   "outputs": [
    {
     "name": "stdout",
     "output_type": "stream",
     "text": [
      "[[ 1  2  3  4]\n",
      " [ 5  6  7  8]\n",
      " [ 9 10 11 12]]\n"
     ]
    }
   ],
   "source": [
    "a = np.array([[1,2,3,4], [5,6,7,8], [9,10,11,12]])\n",
    "print(a)"
   ]
  },
  {
   "cell_type": "code",
   "execution_count": 12,
   "metadata": {},
   "outputs": [
    {
     "data": {
      "text/plain": [
       "(3, 4)"
      ]
     },
     "execution_count": 12,
     "metadata": {},
     "output_type": "execute_result"
    }
   ],
   "source": [
    "a.shape"
   ]
  },
  {
   "cell_type": "code",
   "execution_count": 20,
   "metadata": {},
   "outputs": [
    {
     "data": {
      "text/plain": [
       "array([0., 0., 0., 0., 0., 0.])"
      ]
     },
     "execution_count": 20,
     "metadata": {},
     "output_type": "execute_result"
    }
   ],
   "source": [
    "np.zeros(6)"
   ]
  },
  {
   "cell_type": "code",
   "execution_count": 21,
   "metadata": {},
   "outputs": [
    {
     "data": {
      "text/plain": [
       "array([1., 1., 1., 1., 1., 1.])"
      ]
     },
     "execution_count": 21,
     "metadata": {},
     "output_type": "execute_result"
    }
   ],
   "source": [
    "np.ones(6)"
   ]
  },
  {
   "cell_type": "code",
   "execution_count": 22,
   "metadata": {},
   "outputs": [
    {
     "data": {
      "text/plain": [
       "array([1., 1., 1., 1., 1., 1.])"
      ]
     },
     "execution_count": 22,
     "metadata": {},
     "output_type": "execute_result"
    }
   ],
   "source": [
    "np.empty(6)"
   ]
  },
  {
   "cell_type": "code",
   "execution_count": 25,
   "metadata": {},
   "outputs": [
    {
     "data": {
      "text/plain": [
       "array([0, 2, 4, 6, 8])"
      ]
     },
     "execution_count": 25,
     "metadata": {},
     "output_type": "execute_result"
    }
   ],
   "source": [
    "np.arange(0, 10, 2) #start, stop, step"
   ]
  },
  {
   "cell_type": "markdown",
   "metadata": {},
   "source": [
    "### Add, Remove, Sort Array"
   ]
  },
  {
   "cell_type": "code",
   "execution_count": 28,
   "metadata": {},
   "outputs": [
    {
     "name": "stdout",
     "output_type": "stream",
     "text": [
      "[0 1 2 3 4 5 6 7]\n"
     ]
    }
   ],
   "source": [
    "arr = np.arange(8)\n",
    "print(arr)"
   ]
  },
  {
   "cell_type": "code",
   "execution_count": 31,
   "metadata": {},
   "outputs": [
    {
     "data": {
      "text/plain": [
       "array([0, 1, 2, 3, 4, 5, 6, 7, 1, 2])"
      ]
     },
     "execution_count": 31,
     "metadata": {},
     "output_type": "execute_result"
    }
   ],
   "source": [
    "# Menambah array\n",
    "\n",
    "np.append(arr, [1,2])"
   ]
  },
  {
   "cell_type": "code",
   "execution_count": 33,
   "metadata": {},
   "outputs": [
    {
     "data": {
      "text/plain": [
       "array([0, 2, 3, 4, 5, 6, 7])"
      ]
     },
     "execution_count": 33,
     "metadata": {},
     "output_type": "execute_result"
    }
   ],
   "source": [
    "# Menghapus array\n",
    "\n",
    "np.delete(arr, 1)"
   ]
  },
  {
   "cell_type": "code",
   "execution_count": 36,
   "metadata": {},
   "outputs": [
    {
     "data": {
      "text/plain": [
       "array([ 2,  5,  6,  8,  9, 12])"
      ]
     },
     "execution_count": 36,
     "metadata": {},
     "output_type": "execute_result"
    }
   ],
   "source": [
    "# Mengurutkan array\n",
    "\n",
    "arr2 = np.array([2, 5, 8, 9, 12, 6])\n",
    "np.sort(arr2)"
   ]
  },
  {
   "cell_type": "markdown",
   "metadata": {},
   "source": [
    "## Shape and Size"
   ]
  },
  {
   "cell_type": "code",
   "execution_count": 37,
   "metadata": {},
   "outputs": [
    {
     "name": "stdout",
     "output_type": "stream",
     "text": [
      "Dimensi  :  1\n",
      "Size     :  6\n",
      "Shape    :  (6,)\n"
     ]
    }
   ],
   "source": [
    "a = np.array([2, 5, 8, 9, 12, 6])\n",
    "\n",
    "print(\"Dimensi  : \", a.ndim)\n",
    "print(\"Size     : \", a.size)\n",
    "print(\"Shape    : \", a.shape)"
   ]
  },
  {
   "cell_type": "code",
   "execution_count": 40,
   "metadata": {},
   "outputs": [
    {
     "name": "stdout",
     "output_type": "stream",
     "text": [
      "[[[0 1 2 3]\n",
      "  [4 5 6 7]]\n",
      "\n",
      " [[0 1 2 3]\n",
      "  [4 5 6 7]]\n",
      "\n",
      " [[0 1 2 3]\n",
      "  [4 5 6 7]]]\n",
      "\n",
      "\n",
      "Dimensi  :  3\n",
      "Size     :  24\n",
      "Shape    :  (3, 2, 4)\n"
     ]
    }
   ],
   "source": [
    "array = np.array([[[0, 1, 2, 3],\n",
    "                   [4, 5, 6, 7]],\n",
    "                  \n",
    "                  [[0, 1, 2, 3],\n",
    "                   [4, 5, 6, 7]],\n",
    "                  \n",
    "                  [[0, 1, 2, 3],\n",
    "                   [4, 5, 6, 7]]])\n",
    "print(array)\n",
    "print(\"\\n\")\n",
    "print(\"Dimensi  : \", array.ndim)\n",
    "print(\"Size     : \", array.size)\n",
    "print(\"Shape    : \", array.shape)"
   ]
  },
  {
   "cell_type": "markdown",
   "metadata": {},
   "source": [
    "## Reshape"
   ]
  },
  {
   "cell_type": "code",
   "execution_count": 45,
   "metadata": {},
   "outputs": [
    {
     "name": "stdout",
     "output_type": "stream",
     "text": [
      "A =  [ 2  5  8  9 12  6]\n",
      "B =  [[ 2  5]\n",
      " [ 8  9]\n",
      " [12  6]]\n",
      "\n",
      "A Shape :  (6,)\n",
      "B Shape :  (3, 2)\n"
     ]
    }
   ],
   "source": [
    "a = np.array([2, 5, 8, 9, 12, 6])\n",
    "\n",
    "b = a.reshape(3, 2)\n",
    "print(\"A = \", a)\n",
    "print(\"B = \", b)\n",
    "\n",
    "print(\"\\nA Shape : \", a.shape)\n",
    "print(\"B Shape : \", b.shape)"
   ]
  },
  {
   "cell_type": "markdown",
   "metadata": {},
   "source": [
    "## Menambah Dimensi Array"
   ]
  },
  {
   "cell_type": "code",
   "execution_count": 46,
   "metadata": {},
   "outputs": [
    {
     "name": "stdout",
     "output_type": "stream",
     "text": [
      "X =  [ 2  5  8  9 12  6]\n",
      "Y =  [[ 2  5  8  9 12  6]]\n",
      "\n",
      "A Shape :  (6,)\n",
      "B Shape :  (1, 6)\n"
     ]
    }
   ],
   "source": [
    "x = np.array([2, 5, 8, 9, 12, 6])\n",
    "\n",
    "y = a[np.newaxis]   # convert array 1D menjadi 2D\n",
    "print(\"X = \", x)\n",
    "print(\"Y = \", y)\n",
    "\n",
    "print(\"\\nA Shape : \", x.shape)\n",
    "print(\"B Shape : \", y.shape)"
   ]
  },
  {
   "cell_type": "code",
   "execution_count": 54,
   "metadata": {},
   "outputs": [
    {
     "name": "stdout",
     "output_type": "stream",
     "text": [
      "X =  [ 2  5  8  9 12  6]\n",
      "Y =  [[ 2]\n",
      " [ 5]\n",
      " [ 8]\n",
      " [ 9]\n",
      " [12]\n",
      " [ 6]]\n",
      "\n",
      "A Shape :  (6,)\n",
      "B Shape :  (6, 1)\n"
     ]
    }
   ],
   "source": [
    "x = np.array([2, 5, 8, 9, 12, 6])\n",
    "\n",
    "y = np.expand_dims(x, axis = 1)   # Menambahkan dimensi pada axis 1\n",
    "print(\"X = \", x)\n",
    "print(\"Y = \", y)\n",
    "\n",
    "print(\"\\nA Shape : \", x.shape)\n",
    "print(\"B Shape : \", y.shape)"
   ]
  },
  {
   "cell_type": "markdown",
   "metadata": {},
   "source": [
    "## Indexing dan Slicing"
   ]
  },
  {
   "cell_type": "code",
   "execution_count": 65,
   "metadata": {},
   "outputs": [
    {
     "name": "stdout",
     "output_type": "stream",
     "text": [
      "Array : [ 2  5  8  9 12  6]\n",
      "Array ke-4 :  12\n",
      "Array ke-2-4 :  [8 9]\n",
      "\n",
      "Array < 8 :  [2 5 6]\n",
      "Array genap :  [ True False  True False  True  True]\n",
      "Array Habis dibagi 2 dan 3 :  [False False False False  True  True]\n"
     ]
    }
   ],
   "source": [
    "x = np.array([2, 5, 8, 9, 12, 6])\n",
    "print(\"Array :\", x)\n",
    "\n",
    "# Indexing\n",
    "print(\"Array ke-4 : \", x[4])\n",
    "print(\"Array ke-2-4 : \", x[2:4])\n",
    "\n",
    "# Slicing\n",
    "print(\"\\nArray < 8 : \", x[x<8])\n",
    "print(\"Array genap : \", x % 2 == 0)\n",
    "print(\"Array Habis dibagi 2 dan 3 : \", (x % 2 == 0) & (x % 3 == 0))"
   ]
  },
  {
   "cell_type": "markdown",
   "metadata": {},
   "source": [
    "## Membuat Array dari Array yang Ada"
   ]
  },
  {
   "cell_type": "code",
   "execution_count": 72,
   "metadata": {},
   "outputs": [
    {
     "name": "stdout",
     "output_type": "stream",
     "text": [
      "Array 1 : \n",
      " [[1 2 3]\n",
      " [4 5 6]]\n",
      "\n",
      "Array 2 : \n",
      " [[ 7  8  9]\n",
      " [10 11 12]]\n",
      "\n",
      "Array 1 & 2 V : \n",
      " [[ 1  2  3]\n",
      " [ 4  5  6]\n",
      " [ 7  8  9]\n",
      " [10 11 12]]\n",
      "\n",
      "Array 1 & 2 H : \n",
      " [[ 1  2  3  7  8  9]\n",
      " [ 4  5  6 10 11 12]]\n"
     ]
    }
   ],
   "source": [
    "a1 = np.array([[1, 2, 3], [4, 5, 6]])\n",
    "a2 = np.array([[7, 8, 9], [10, 11, 12]])\n",
    "\n",
    "print(\"Array 1 : \\n\", a1)\n",
    "print(\"\\nArray 2 : \\n\", a2)\n",
    "\n",
    "# Membuat vertical stack\n",
    "print(\"\\nArray 1 & 2 V : \\n\", np.vstack([a1, a2]))\n",
    "\n",
    "# Membuat horizontlal stack\n",
    "print(\"\\nArray 1 & 2 H : \\n\", np.hstack([a1, a2]))"
   ]
  },
  {
   "cell_type": "code",
   "execution_count": 80,
   "metadata": {},
   "outputs": [
    {
     "name": "stdout",
     "output_type": "stream",
     "text": [
      "Array : \n",
      " [[ 1  2  3  4  5  6  7  8  9 10]\n",
      " [11 12 13 14 15 16 17 18 19 20]]\n",
      "\n",
      "Array split V : \n",
      " [array([[ 1,  2,  3,  4,  5,  6,  7,  8,  9, 10]]), array([[11, 12, 13, 14, 15, 16, 17, 18, 19, 20]])]\n",
      "\n",
      "Array split H : \n",
      " [array([[ 1,  2,  3,  4,  5],\n",
      "       [11, 12, 13, 14, 15]]), array([[ 6,  7,  8,  9, 10],\n",
      "       [16, 17, 18, 19, 20]])]\n"
     ]
    }
   ],
   "source": [
    "a_split = np.array([[1, 2, 3, 4, 5, 6, 7, 8, 9, 10], \n",
    "                    [11, 12, 13, 14, 15, 16, 17, 18, 19, 20]])\n",
    "\n",
    "print(\"Array : \\n\", a_split)\n",
    "\n",
    "# Membuat vertical split\n",
    "print(\"\\nArray split V : \\n\", np.vsplit(a_split, 2))\n",
    "\n",
    "# Membuat horizontlal split\n",
    "print(\"\\nArray split H : \\n\", np.hsplit(a_split, 2))"
   ]
  },
  {
   "cell_type": "code",
   "execution_count": 83,
   "metadata": {},
   "outputs": [
    {
     "name": "stdout",
     "output_type": "stream",
     "text": [
      "Array A :  [[ 1  2  3  4]\n",
      " [ 5  6  7  8]\n",
      " [ 9 10 11 12]]\n",
      "\n",
      "Array B : [[ 1  2  3  4]\n",
      " [ 5  6  7  8]\n",
      " [ 9 10 11 12]]\n",
      "\n",
      "Array C : [[ 1  2  3  4]\n",
      " [ 5  6  7  8]\n",
      " [ 9 10 11 12]]\n"
     ]
    }
   ],
   "source": [
    "aa = np.array([[1, 2, 3, 4], [5, 6, 7, 8], [9, 10, 11, 12]])\n",
    "print(\"Array A : \", aa) \n",
    "\n",
    "# Membuat array baru dengan data yang sama dengan array aa\n",
    "ab = aa.view()\n",
    "print(\"\\nArray B :\", ab)\n",
    "\n",
    "# Membuat deep copy dari array aa\n",
    "ac = aa.copy()\n",
    "print(\"\\nArray C :\", ac)"
   ]
  },
  {
   "cell_type": "markdown",
   "metadata": {},
   "source": [
    "## Array Operations"
   ]
  },
  {
   "cell_type": "code",
   "execution_count": 94,
   "metadata": {},
   "outputs": [
    {
     "name": "stdout",
     "output_type": "stream",
     "text": [
      "[1 2]\n",
      "Penjumlahan :  [2 4]\n",
      "Sum Array :  3\n",
      "Pengurangan :  [0 0]\n",
      "Perkalian :  [1 4]\n",
      "Perkalian data x 2 :  [2 4]\n",
      "Pembagian :  [1. 1.]\n"
     ]
    }
   ],
   "source": [
    "data = np.array([1, 2])\n",
    "print(data)\n",
    "\n",
    "# Addition \n",
    "print(\"Penjumlahan : \", data + data)\n",
    "print(\"Sum Array : \", data.sum())   # menjumlahkan elemen array (1 + 2 = 3)\n",
    "\n",
    "# Subtraction\n",
    "print(\"Pengurangan : \", data - data)\n",
    "\n",
    "# Multiplication\n",
    "print(\"Perkalian : \", data * data)\n",
    "print(\"Perkalian data x 2 : \", data * 2)\n",
    "\n",
    "# Division\n",
    "print(\"Pembagian : \", data / data)"
   ]
  },
  {
   "cell_type": "markdown",
   "metadata": {},
   "source": [
    "<b>Broadcasting</b> -> mekanisme yang memungkinkan NumPy untuk melakukan operasi pada array dengan bentuk berbeda. Misalnya data array [1, 2] x 2 maka kedua elemen array akan dikalikan dengan 2. dan untuk array [1, 2] x [1, 2] maka yang akan dikalikan adalah [1x1 2x2]"
   ]
  },
  {
   "cell_type": "code",
   "execution_count": 101,
   "metadata": {},
   "outputs": [
    {
     "name": "stdout",
     "output_type": "stream",
     "text": [
      "Array : \n",
      " [[ 1  2  3  4]\n",
      " [ 5  6  7  8]\n",
      " [ 9 10 11 12]] \n",
      "\n",
      "Max :  12\n",
      "Min :  1\n",
      "Sum :  78\n",
      "Std :  3.452052529534663\n"
     ]
    }
   ],
   "source": [
    "arr = np.array([[1, 2, 3, 4], [5, 6, 7, 8], [9, 10, 11, 12]])\n",
    "\n",
    "print(\"Array : \\n\", arr, \"\\n\")\n",
    "print(\"Max : \", arr.max())\n",
    "print(\"Min : \", arr.min())\n",
    "print(\"Sum : \", arr.sum())\n",
    "print(\"Std : \", arr.std())"
   ]
  },
  {
   "cell_type": "markdown",
   "metadata": {},
   "source": [
    "## Matriks Aritmatika"
   ]
  },
  {
   "cell_type": "code",
   "execution_count": 109,
   "metadata": {},
   "outputs": [
    {
     "name": "stdout",
     "output_type": "stream",
     "text": [
      "Array 1 : \n",
      " [[1 2 3]\n",
      " [4 5 6]]\n",
      "A1 Shape :  (2, 3)\n",
      "\n",
      "Array 2 : \n",
      " [[ 7  8]\n",
      " [ 9 10]\n",
      " [11 12]]\n",
      "A2 Shape :  (3, 2)\n",
      "\n",
      "Perkalian : \n",
      " [[ 58  64]\n",
      " [139 154]]\n"
     ]
    }
   ],
   "source": [
    "a_1 = np.array([[1, 2, 3], [4, 5, 6]])\n",
    "print(\"Array 1 : \\n\", a_1)\n",
    "print(\"A1 Shape : \", a_1.shape)\n",
    "\n",
    "a_2 = np.array([[7, 8], [9, 10], [11, 12]])\n",
    "print(\"\\nArray 2 : \\n\", a_2)\n",
    "print(\"A2 Shape : \", a_2.shape)\n",
    "\n",
    "# Perkalian 2 matriks\n",
    "print(\"\\nPerkalian : \\n\", np.dot(a_1, a_2))"
   ]
  },
  {
   "cell_type": "markdown",
   "metadata": {},
   "source": [
    "## Transposing and Reshaping"
   ]
  },
  {
   "cell_type": "code",
   "execution_count": 119,
   "metadata": {},
   "outputs": [
    {
     "name": "stdout",
     "output_type": "stream",
     "text": [
      "Matriks : \n",
      " [[ 7  8]\n",
      " [ 9 10]\n",
      " [11 12]]\n",
      "\n",
      "Transpos : \n",
      " [[ 7  9 11]\n",
      " [ 8 10 12]]\n",
      "\n",
      "Reshape : \n",
      " [[ 7  8  9 10 11 12]]\n"
     ]
    }
   ],
   "source": [
    "matriks = np.array([[7, 8], [9, 10], [11, 12]])\n",
    "\n",
    "print(\"Matriks : \\n\", matriks)\n",
    "\n",
    "# Transpos\n",
    "print(\"\\nTranspos : \\n\", matriks.T)\n",
    "\n",
    "# Reshape\n",
    "print(\"\\nReshape : \\n\", matriks.reshape(1, 6))"
   ]
  }
 ],
 "metadata": {
  "kernelspec": {
   "display_name": "base",
   "language": "python",
   "name": "python3"
  },
  "language_info": {
   "codemirror_mode": {
    "name": "ipython",
    "version": 3
   },
   "file_extension": ".py",
   "mimetype": "text/x-python",
   "name": "python",
   "nbconvert_exporter": "python",
   "pygments_lexer": "ipython3",
   "version": "3.11.4"
  },
  "orig_nbformat": 4
 },
 "nbformat": 4,
 "nbformat_minor": 2
}
